{
  "nbformat": 4,
  "nbformat_minor": 0,
  "metadata": {
    "colab": {
      "name": "Curso_Em_Video_Python_Mundo_3_WITH_COLAB",
      "provenance": [],
      "collapsed_sections": [],
      "authorship_tag": "ABX9TyMZ2oQg9aSxhknrPUb+j+wz",
      "include_colab_link": true
    },
    "kernelspec": {
      "name": "python3",
      "display_name": "Python 3"
    }
  },
  "cells": [
    {
      "cell_type": "markdown",
      "metadata": {
        "id": "view-in-github",
        "colab_type": "text"
      },
      "source": [
        "<a href=\"https://colab.research.google.com/github/DanielMGuedes/Exercicios_Python_Prof_Guanabara/blob/main/Curso_Em_Video_Python_Mundo_3_WITH_COLAB.ipynb\" target=\"_parent\"><img src=\"https://colab.research.google.com/assets/colab-badge.svg\" alt=\"Open In Colab\"/></a>"
      ]
    },
    {
      "cell_type": "markdown",
      "metadata": {
        "id": "6fuEItINppae"
      },
      "source": [
        "## Mundo 3 - Python\r\n",
        "\r\n",
        "**Teste Git x CoLAB"
      ]
    },
    {
      "cell_type": "code",
      "metadata": {
        "id": "7R7z5fPpnfw9"
      },
      "source": [
        ""
      ],
      "execution_count": null,
      "outputs": []
    }
  ]
}